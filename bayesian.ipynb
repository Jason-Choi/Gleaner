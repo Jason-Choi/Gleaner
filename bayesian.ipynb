{
    "cells": [
        {
            "cell_type": "code",
            "execution_count": null,
            "metadata": {},
            "outputs": [],
            "source": [
                "%load_ext autoreload\n",
                "%autoreload 2\n",
                "import pandas as pd\n",
                "from vega_datasets import data\n",
                "\n",
                "from src.oracle import Oracle, OracleWeight\n",
                "from src.generator import Generator\n",
                "from src.explorer import Explorer, ExplorerConfig, TrainResult\n",
                "import altair as alt\n",
                "\n",
                "df = data.movies()\n",
                "df = df[[\n",
                "    col\n",
                "    for col in df.columns\n",
                "    if (df[col].dtype == \"object\" and df[col].nunique() < 10)\n",
                "    or df[col].dtype != \"object\"\n",
                "]]\n"
            ]
        },
        {
            "cell_type": "code",
            "execution_count": null,
            "metadata": {},
            "outputs": [],
            "source": [
                "train_results: list[TrainResult] = []\n",
                "oracle_weight = OracleWeight(\n",
                "    specificity=1.0,\n",
                "    interestingness=1.0,\n",
                "    diversity=1.0,\n",
                "    coverage=1.0,\n",
                "    conciseness=1.0,\n",
                ")\n",
                "oracle = Oracle(df, oracle_weight)\n",
                "gen = Generator(df)\n",
                "expl_config = ExplorerConfig(1000, 100, 0.1)\n",
                "expl = Explorer(df, expl_config)"
            ]
        },
        {
            "cell_type": "code",
            "execution_count": null,
            "metadata": {},
            "outputs": [],
            "source": [
                "from IPython.display import clear_output\n",
                "# type: ignore\n",
                "\n",
                "for epoch in range(expl_config.n_epoch):\n",
                "    train_result = expl.train(gen, oracle, [\"IMDB_Votes\", \"boxplot\"])\n",
                "    train_results.append(train_result)\n",
                "    if expl.result is None:\n",
                "        break\n",
                "    clear_output(wait=True)\n",
                "    print(f\"Epoch {epoch}\")\n",
                "    \n",
                "    \n",
                "    data = pd.DataFrame(\n",
                "        {\n",
                "            \"epoch\": range(epoch + 1),\n",
                "            \"scores\": [r.scores.mean() for r in train_results],\n",
                "            \"maxs\" : [r.scores.max() for r in train_results],\n",
                "            \"specificity\": [r.specificity.mean() for r in train_results],\n",
                "            \"interestingness\": [r.interestingness.mean() for r in train_results],\n",
                "            \"coverage\": [r.coverage.mean() for r in train_results],\n",
                "            \"diversity\": [r.diversity.mean() for r in train_results],\n",
                "            \"conciseness\": [r.conciseness.mean() for r in train_results],\n",
                "            \"n_charts\": [r.n_charts.mean() for r in train_results],\n",
                "        }\n",
                "    )\n",
                "    line = (\n",
                "        alt.Chart(data)\n",
                "        .mark_line()\n",
                "        .encode(\n",
                "            x=\"epoch\",\n",
                "        )\n",
                "        .properties(width=150, height=100)\n",
                "    )\n",
                "    display(\n",
                "        (\n",
                "            line.encode(y=alt.Y(\"scores\", scale=alt.Scale(zero=False)))\n",
                "        | line.encode(y=alt.Y(\"maxs\", scale=alt.Scale(zero=False)))\n",
                "        | line.encode(y=alt.Y(\"n_charts\", scale=alt.Scale(zero=False)))\n",
                "        )\n",
                "        & (\n",
                "            line.encode(y=alt.Y(\"specificity\", scale=alt.Scale(zero=False)))\n",
                "            | line.encode(y=alt.Y(\"interestingness\", scale=alt.Scale(zero=False)))\n",
                "            | line.encode(y=alt.Y(\"coverage\", scale=alt.Scale(zero=False)))\n",
                "            | line.encode(y=alt.Y(\"diversity\", scale=alt.Scale(zero=False)))\n",
                "            | line.encode(y=alt.Y(\"conciseness\", scale=alt.Scale(zero=False)))\n",
                "        )\n",
                "    )\n",
                "    display(expl.result.display_dashboard(100, 4))\n",
                "    print(expl.result)"
            ]
        }
    ],
    "metadata": {
        "kernelspec": {
            "display_name": "columbus",
            "language": "python",
            "name": "python3"
        },
        "language_info": {
            "codemirror_mode": {
                "name": "ipython",
                "version": 3
            },
            "file_extension": ".py",
            "mimetype": "text/x-python",
            "name": "python",
            "nbconvert_exporter": "python",
            "pygments_lexer": "ipython3",
            "version": "3.10.10"
        },
        "orig_nbformat": 4
    },
    "nbformat": 4,
    "nbformat_minor": 2
}
