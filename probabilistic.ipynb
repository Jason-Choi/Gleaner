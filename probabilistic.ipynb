{
 "cells": [
  {
   "cell_type": "code",
   "execution_count": null,
   "metadata": {},
   "outputs": [],
   "source": [
    "%load_ext autoreload\n",
    "%autoreload 2\n",
    "\n",
    "import numpy as np\n",
    "import pandas as pd \n",
    "from vega_datasets import data\n",
    "\n",
    "df = data.movies()\n",
    "\n",
    "# name attributes\n",
    "name_attrs = [\n",
    "    col\n",
    "    for col in df.columns    \n",
    "    if (df[col].dtype == \"object\" and df[col].nunique() < 10) or df[col].dtype != \"object\"\n",
    "]\n",
    "df = df[name_attrs]\n",
    "df.info()"
   ]
  },
  {
   "cell_type": "code",
   "execution_count": null,
   "metadata": {},
   "outputs": [],
   "source": [
    "from src.oracle import ColumbusProbOracle, OracleWeight\n",
    "from src.ProbColumbus import ProbColumbus, ColumbusConfig, SamplingWeight, chart_type, agg_type\n",
    "\n",
    "oracle_weight = OracleWeight()\n",
    "oracle = ColumbusProbOracle(oracle_weight)\n",
    "prob = ProbColumbus(df, ColumbusConfig())\n",
    "\n",
    "def func(weight):\n",
    "    n_samples = 10\n",
    "    n_dashboards = 20\n",
    "    \n",
    "    dashboards = [\n",
    "        prob.sample_n(n_samples, weight)\n",
    "        for _ in range(n_dashboards)\n",
    "    ]\n",
    "    scores = [prob.infer(dashboard, oracle, [\"attr_Running_Time_min\"]) for dashboard in dashboards]\n",
    "    sc = np.mean(scores)\n",
    "    return -sc\n"
   ]
  },
  {
   "cell_type": "code",
   "execution_count": null,
   "metadata": {},
   "outputs": [],
   "source": [
    "from skopt import Optimizer\n",
    "from skopt.space import Space, Real\n",
    "from IPython.display import clear_output\n",
    "\n",
    "attrs = [None] + name_attrs\n",
    "\n",
    "x = [Real(0.01, 1.0, name=f\"x{i}\") for i in range(len(attrs[1:]))]\n",
    "y = [Real(0.01, 1.0, name=f\"y{i}\") for i in range(len(attrs))]\n",
    "z = [Real(0.01, 1.0, name=f\"z{i}\") for i in range(len(attrs))]\n",
    "ct = [Real(0.01, 1.0, name=f\"ct{i}\") for i in range(len(chart_type))]\n",
    "at = [Real(0.01, 1.0, name=f\"at{i}\") for i in range(len(agg_type))]\n",
    "\n",
    "\n",
    "opt_weight = Space([\n",
    "    *x, *y, *z, *ct, *at\n",
    "])\n",
    "\n",
    "\n",
    "opt = Optimizer(opt_weight, base_estimator=\"GP\" ,n_initial_points=10, acq_func=\"EI\")\n",
    "\n",
    "weights = []\n",
    "\n",
    "for i in range(30):\n",
    "    params = opt.ask()\n",
    "    x = np.array(params)\n",
    "    weight = SamplingWeight(\n",
    "        x=x[0 : len(attrs) - 1],\n",
    "        y=x[len(attrs) - 1 : 2 * len(attrs) - 1],\n",
    "        z=x[2 * len(attrs) - 1 : 3 * len(attrs) - 1],\n",
    "        ct=x[3 * len(attrs) - 1 : 3 * len(attrs) - 1 + len(chart_type)],\n",
    "        at=x[3 * len(attrs) - 1 + len(chart_type) :],\n",
    "        attr=attrs,\n",
    "        chart_type=chart_type,\n",
    "        agg_type=agg_type\n",
    "    )\n",
    "    \n",
    "    weights.append(weight)\n",
    "    \n",
    "    clear_output(wait=True)\n",
    "    print(i)\n",
    "    display(weight.visualize())\n",
    "    y = func(weight)\n",
    "    opt.tell(params, y)\n",
    "    print(opt.get_result().fun)\n",
    "\n",
    "\n",
    "print(opt.get_result())\n",
    "\n",
    "\n"
   ]
  },
  {
   "cell_type": "code",
   "execution_count": null,
   "metadata": {},
   "outputs": [],
   "source": [
    "import altair as alt\n",
    "\n",
    "\n",
    "data = {\n",
    "    \n",
    "}\n",
    "chart = alt.Chart()"
   ]
  },
  {
   "cell_type": "code",
   "execution_count": null,
   "metadata": {},
   "outputs": [],
   "source": []
  }
 ],
 "metadata": {
  "kernelspec": {
   "display_name": "cameleon",
   "language": "python",
   "name": "python3"
  },
  "language_info": {
   "codemirror_mode": {
    "name": "ipython",
    "version": 3
   },
   "file_extension": ".py",
   "mimetype": "text/x-python",
   "name": "python",
   "nbconvert_exporter": "python",
   "pygments_lexer": "ipython3",
   "version": "3.10.9"
  },
  "orig_nbformat": 4
 },
 "nbformat": 4,
 "nbformat_minor": 2
}
