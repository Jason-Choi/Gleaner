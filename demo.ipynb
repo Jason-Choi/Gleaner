{
    "cells": [
        {
            "cell_type": "code",
            "execution_count": 80,
            "metadata": {},
            "outputs": [
                {
                    "name": "stdout",
                    "output_type": "stream",
                    "text": [
                        "The autoreload extension is already loaded. To reload it, use:\n",
                        "  %reload_ext autoreload\n"
                    ]
                }
            ],
            "source": [
                "%load_ext autoreload\n",
                "%autoreload 2\n",
                "import pandas as pd\n",
                "from vega_datasets import data\n",
                "\n",
                "from src import Gleaner\n",
                "\n",
                "df = data.movies()\n",
                "gleaner = Gleaner(df)"
            ]
        },
        {
            "cell_type": "code",
            "execution_count": 100,
            "metadata": {},
            "outputs": [
                {
                    "name": "stdout",
                    "output_type": "stream",
                    "text": [
                        "Epoch 45\n"
                    ]
                },
                {
                    "data": {
                        "text/html": [
                            "\n",
                            "<div id=\"altair-viz-5fce36514ef8469585eba99df05db027\"></div>\n",
                            "<script type=\"text/javascript\">\n",
                            "  var VEGA_DEBUG = (typeof VEGA_DEBUG == \"undefined\") ? {} : VEGA_DEBUG;\n",
                            "  (function(spec, embedOpt){\n",
                            "    let outputDiv = document.currentScript.previousElementSibling;\n",
                            "    if (outputDiv.id !== \"altair-viz-5fce36514ef8469585eba99df05db027\") {\n",
                            "      outputDiv = document.getElementById(\"altair-viz-5fce36514ef8469585eba99df05db027\");\n",
                            "    }\n",
                            "    const paths = {\n",
                            "      \"vega\": \"https://cdn.jsdelivr.net/npm//vega@5?noext\",\n",
                            "      \"vega-lib\": \"https://cdn.jsdelivr.net/npm//vega-lib?noext\",\n",
                            "      \"vega-lite\": \"https://cdn.jsdelivr.net/npm//vega-lite@4.17.0?noext\",\n",
                            "      \"vega-embed\": \"https://cdn.jsdelivr.net/npm//vega-embed@6?noext\",\n",
                            "    };\n",
                            "\n",
                            "    function maybeLoadScript(lib, version) {\n",
                            "      var key = `${lib.replace(\"-\", \"\")}_version`;\n",
                            "      return (VEGA_DEBUG[key] == version) ?\n",
                            "        Promise.resolve(paths[lib]) :\n",
                            "        new Promise(function(resolve, reject) {\n",
                            "          var s = document.createElement('script');\n",
                            "          document.getElementsByTagName(\"head\")[0].appendChild(s);\n",
                            "          s.async = true;\n",
                            "          s.onload = () => {\n",
                            "            VEGA_DEBUG[key] = version;\n",
                            "            return resolve(paths[lib]);\n",
                            "          };\n",
                            "          s.onerror = () => reject(`Error loading script: ${paths[lib]}`);\n",
                            "          s.src = paths[lib];\n",
                            "        });\n",
                            "    }\n",
                            "\n",
                            "    function showError(err) {\n",
                            "      outputDiv.innerHTML = `<div class=\"error\" style=\"color:red;\">${err}</div>`;\n",
                            "      throw err;\n",
                            "    }\n",
                            "\n",
                            "    function displayChart(vegaEmbed) {\n",
                            "      vegaEmbed(outputDiv, spec, embedOpt)\n",
                            "        .catch(err => showError(`Javascript Error: ${err.message}<br>This usually means there's a typo in your chart specification. See the javascript console for the full traceback.`));\n",
                            "    }\n",
                            "\n",
                            "    if(typeof define === \"function\" && define.amd) {\n",
                            "      requirejs.config({paths});\n",
                            "      require([\"vega-embed\"], displayChart, err => showError(`Error loading script: ${err.message}`));\n",
                            "    } else {\n",
                            "      maybeLoadScript(\"vega\", \"5\")\n",
                            "        .then(() => maybeLoadScript(\"vega-lite\", \"4.17.0\"))\n",
                            "        .then(() => maybeLoadScript(\"vega-embed\", \"6\"))\n",
                            "        .catch(showError)\n",
                            "        .then(() => displayChart(vegaEmbed));\n",
                            "    }\n",
                            "  })({\"config\": {\"view\": {\"continuousWidth\": 400, \"continuousHeight\": 300}}, \"vconcat\": [{\"hconcat\": [{\"mark\": \"line\", \"encoding\": {\"x\": {\"field\": \"epoch\", \"type\": \"quantitative\"}, \"y\": {\"field\": \"scores\", \"scale\": {\"zero\": false}, \"type\": \"quantitative\"}}, \"height\": 100, \"width\": 150}, {\"mark\": \"line\", \"encoding\": {\"x\": {\"field\": \"epoch\", \"type\": \"quantitative\"}, \"y\": {\"field\": \"maxs\", \"scale\": {\"zero\": false}, \"type\": \"quantitative\"}}, \"height\": 100, \"width\": 150}]}, {\"hconcat\": [{\"mark\": \"line\", \"encoding\": {\"x\": {\"field\": \"epoch\", \"type\": \"quantitative\"}, \"y\": {\"field\": \"specificity\", \"scale\": {\"zero\": false}, \"type\": \"quantitative\"}}, \"height\": 100, \"width\": 150}, {\"mark\": \"line\", \"encoding\": {\"x\": {\"field\": \"epoch\", \"type\": \"quantitative\"}, \"y\": {\"field\": \"interestingness\", \"scale\": {\"zero\": false}, \"type\": \"quantitative\"}}, \"height\": 100, \"width\": 150}, {\"mark\": \"line\", \"encoding\": {\"x\": {\"field\": \"epoch\", \"type\": \"quantitative\"}, \"y\": {\"field\": \"coverage\", \"scale\": {\"zero\": false}, \"type\": \"quantitative\"}}, \"height\": 100, \"width\": 150}, {\"mark\": \"line\", \"encoding\": {\"x\": {\"field\": \"epoch\", \"type\": \"quantitative\"}, \"y\": {\"field\": \"diversity\", \"scale\": {\"zero\": false}, \"type\": \"quantitative\"}}, \"height\": 100, \"width\": 150}, {\"layer\": [{\"mark\": \"line\", \"encoding\": {\"x\": {\"field\": \"epoch\", \"type\": \"quantitative\"}, \"y\": {\"field\": \"conciseness\", \"scale\": {\"zero\": false}, \"type\": \"quantitative\"}}, \"height\": 100, \"width\": 150}, {\"mark\": {\"type\": \"line\", \"color\": \"orange\"}, \"encoding\": {\"x\": {\"field\": \"epoch\", \"type\": \"quantitative\"}, \"y\": {\"field\": \"n_charts\", \"scale\": {\"zero\": false}, \"type\": \"quantitative\"}}, \"height\": 100, \"width\": 150}], \"resolve\": {\"scale\": {\"y\": \"independent\"}}}]}], \"data\": {\"name\": \"data-3e3f95e930c45301fe3e2796fd1ff1e3\"}, \"$schema\": \"https://vega.github.io/schema/vega-lite/v4.17.0.json\", \"datasets\": {\"data-3e3f95e930c45301fe3e2796fd1ff1e3\": [{\"epoch\": 0, \"scores\": 3.9020825465950195, \"maxs\": 4.712582671957672, \"specificity\": 0.28538564213564216, \"interestingness\": 0.6093144387598932, \"coverage\": 0.46765625, \"diversity\": 0.6347680627413311, \"conciseness\": 1.904958152958153, \"n_charts\": 8.55}, {\"epoch\": 1, \"scores\": 3.862144923043327, \"maxs\": 4.474560550230192, \"specificity\": 0.29032647907647907, \"interestingness\": 0.6302303950398647, \"coverage\": 0.46640625, \"diversity\": 0.6409307166759006, \"conciseness\": 1.8342510822510822, \"n_charts\": 8.86}, {\"epoch\": 2, \"scores\": 3.8050123070417046, \"maxs\": 4.399234693877551, \"specificity\": 0.26318650793650794, \"interestingness\": 0.6333358896504729, \"coverage\": 0.488046875, \"diversity\": 0.656714318726007, \"conciseness\": 1.7637287157287156, \"n_charts\": 9.19}, {\"epoch\": 3, \"scores\": 3.8665137002742926, \"maxs\": 4.480889034906892, \"specificity\": 0.3031727994227994, \"interestingness\": 0.6209858727061378, \"coverage\": 0.487578125, \"diversity\": 0.6500438584123108, \"conciseness\": 1.8047330447330447, \"n_charts\": 9.01}, {\"epoch\": 4, \"scores\": 3.8635197751898374, \"maxs\": 4.5734375, \"specificity\": 0.2923740981240981, \"interestingness\": 0.6296385834353637, \"coverage\": 0.476015625, \"diversity\": 0.6453991165380235, \"conciseness\": 1.8200923520923522, \"n_charts\": 8.92}, {\"epoch\": 5, \"scores\": 3.839751301971337, \"maxs\": 4.410465196179482, \"specificity\": 0.28431746031746025, \"interestingness\": 0.6404401436806739, \"coverage\": 0.481328125, \"diversity\": 0.6552701905778205, \"conciseness\": 1.7783953823953822, \"n_charts\": 9.12}, {\"epoch\": 6, \"scores\": 3.8631924521806553, \"maxs\": 4.3830051149247575, \"specificity\": 0.2839787157287157, \"interestingness\": 0.6354947873394843, \"coverage\": 0.4803125, \"diversity\": 0.648785958491965, \"conciseness\": 1.8146204906204904, \"n_charts\": 8.93}, {\"epoch\": 7, \"scores\": 3.8399948403288233, \"maxs\": 4.432645975056689, \"specificity\": 0.31595815295815294, \"interestingness\": 0.6337638999118166, \"coverage\": 0.46640625, \"diversity\": 0.6583484999408159, \"conciseness\": 1.7655180375180373, \"n_charts\": 9.19}, {\"epoch\": 8, \"scores\": 3.787265849981948, \"maxs\": 4.38880772005772, \"specificity\": 0.2732770007770008, \"interestingness\": 0.6397616051106582, \"coverage\": 0.4878125, \"diversity\": 0.6679425496220951, \"conciseness\": 1.7184721944721948, \"n_charts\": 9.45}, {\"epoch\": 9, \"scores\": 3.759425279587536, \"maxs\": 4.28174202340869, \"specificity\": 0.3064715007215007, \"interestingness\": 0.6390650169625548, \"coverage\": 0.4903125, \"diversity\": 0.6767191190463377, \"conciseness\": 1.646857142857143, \"n_charts\": 9.83}, {\"epoch\": 10, \"scores\": 3.7205044931658877, \"maxs\": 4.279433686353329, \"specificity\": 0.2963109113109113, \"interestingness\": 0.6226126761496079, \"coverage\": 0.4921875, \"diversity\": 0.6754406917526548, \"conciseness\": 1.6339527139527137, \"n_charts\": 9.92}, {\"epoch\": 11, \"scores\": 3.7681795516272247, \"maxs\": 4.270326672335601, \"specificity\": 0.30926262626262624, \"interestingness\": 0.6327614306849155, \"coverage\": 0.4971875, \"diversity\": 0.6705957003073886, \"conciseness\": 1.6583722943722945, \"n_charts\": 9.76}, {\"epoch\": 12, \"scores\": 3.783556523055968, \"maxs\": 4.32542667319453, \"specificity\": 0.2930602453102453, \"interestingness\": 0.6174032432004022, \"coverage\": 0.496328125, \"diversity\": 0.6676162803966916, \"conciseness\": 1.7091486291486293, \"n_charts\": 9.47}, {\"epoch\": 13, \"scores\": 3.776064103405013, \"maxs\": 4.30959145021645, \"specificity\": 0.271474025974026, \"interestingness\": 0.6344501744537729, \"coverage\": 0.49171875, \"diversity\": 0.6622133607694213, \"conciseness\": 1.7162077922077925, \"n_charts\": 9.46}, {\"epoch\": 14, \"scores\": 3.791072686292884, \"maxs\": 4.438267139606426, \"specificity\": 0.32399170274170275, \"interestingness\": 0.6166281868103838, \"coverage\": 0.486640625, \"diversity\": 0.6684932684218938, \"conciseness\": 1.6953189033189033, \"n_charts\": 9.56}, {\"epoch\": 15, \"scores\": 3.764236936192916, \"maxs\": 4.220951436130008, \"specificity\": 0.3004098124098124, \"interestingness\": 0.6358534839739385, \"coverage\": 0.48671875, \"diversity\": 0.6705824511367259, \"conciseness\": 1.670672438672439, \"n_charts\": 9.7}, {\"epoch\": 16, \"scores\": 3.741825357580932, \"maxs\": 4.183343962585035, \"specificity\": 0.2809873737373737, \"interestingness\": 0.6265577460208142, \"coverage\": 0.49671875, \"diversity\": 0.6721877504490059, \"conciseness\": 1.665373737373737, \"n_charts\": 9.7}, {\"epoch\": 17, \"scores\": 3.7677627349202027, \"maxs\": 4.31064439033189, \"specificity\": 0.3171338383838384, \"interestingness\": 0.6327612501275381, \"coverage\": 0.4946875, \"diversity\": 0.6771599443886239, \"conciseness\": 1.646020202020202, \"n_charts\": 9.81}, {\"epoch\": 18, \"scores\": 3.7006760320732854, \"maxs\": 4.155409164698938, \"specificity\": 0.3005151515151515, \"interestingness\": 0.6288085597132945, \"coverage\": 0.497109375, \"diversity\": 0.6808692084711022, \"conciseness\": 1.5933737373737373, \"n_charts\": 10.14}, {\"epoch\": 19, \"scores\": 3.7246235812002446, \"maxs\": 4.226703901257473, \"specificity\": 0.3316858974358975, \"interestingness\": 0.6225225512702786, \"coverage\": 0.505546875, \"diversity\": 0.6910158876416993, \"conciseness\": 1.5738523698523699, \"n_charts\": 10.28}, {\"epoch\": 20, \"scores\": 3.6568311041874115, \"maxs\": 4.083933408412575, \"specificity\": 0.31954778554778557, \"interestingness\": 0.6318055399076232, \"coverage\": 0.517421875, \"diversity\": 0.6978398975159963, \"conciseness\": 1.4902160062160066, \"n_charts\": 10.81}, {\"epoch\": 21, \"scores\": 3.662974577288554, \"maxs\": 4.182289585414585, \"specificity\": 0.30892560217560217, \"interestingness\": 0.6269314229611578, \"coverage\": 0.500078125, \"diversity\": 0.6891715172838841, \"conciseness\": 1.53786790986791, \"n_charts\": 10.51}, {\"epoch\": 22, \"scores\": 3.7307796103322475, \"maxs\": 4.195843566156066, \"specificity\": 0.3273686868686869, \"interestingness\": 0.6332982323232323, \"coverage\": 0.508984375, \"diversity\": 0.688199023211036, \"conciseness\": 1.5729292929292926, \"n_charts\": 10.28}, {\"epoch\": 23, \"scores\": 3.723114965073407, \"maxs\": 4.286684052829886, \"specificity\": 0.31600108225108225, \"interestingness\": 0.6227396160377221, \"coverage\": 0.5059375, \"diversity\": 0.687296795644631, \"conciseness\": 1.5911399711399716, \"n_charts\": 10.15}, {\"epoch\": 24, \"scores\": 3.7747038127036507, \"maxs\": 4.18227112393779, \"specificity\": 0.3403207070707071, \"interestingness\": 0.6361640884858688, \"coverage\": 0.49703125, \"diversity\": 0.6872483732076806, \"conciseness\": 1.613939393939394, \"n_charts\": 10.01}, {\"epoch\": 25, \"scores\": 3.8213538741291173, \"maxs\": 4.620997474747474, \"specificity\": 0.3244347041847042, \"interestingness\": 0.6322409080888247, \"coverage\": 0.4940625, \"diversity\": 0.6672275944674214, \"conciseness\": 1.7033881673881675, \"n_charts\": 9.56}, {\"epoch\": 26, \"scores\": 3.7884857973090518, \"maxs\": 4.380668934240363, \"specificity\": 0.3323308080808081, \"interestingness\": 0.6165298247627793, \"coverage\": 0.491796875, \"diversity\": 0.6736464712836466, \"conciseness\": 1.6741818181818184, \"n_charts\": 9.65}, {\"epoch\": 27, \"scores\": 3.7971846921722054, \"maxs\": 4.531845238095238, \"specificity\": 0.3039324841824842, \"interestingness\": 0.6413119559242665, \"coverage\": 0.487109375, \"diversity\": 0.6672648874994654, \"conciseness\": 1.6975659895659896, \"n_charts\": 9.57}, {\"epoch\": 28, \"scores\": 3.723712668509341, \"maxs\": 4.365913278190064, \"specificity\": 0.3191102231102231, \"interestingness\": 0.6173284414729491, \"coverage\": 0.491875, \"diversity\": 0.6828719753991399, \"conciseness\": 1.6125270285270288, \"n_charts\": 10.04}, {\"epoch\": 29, \"scores\": 3.760738821857856, \"maxs\": 4.322944367140796, \"specificity\": 0.34377075702075716, \"interestingness\": 0.6230743497663952, \"coverage\": 0.492109375, \"diversity\": 0.6823078165941802, \"conciseness\": 1.6194765234765236, \"n_charts\": 10.0}, {\"epoch\": 30, \"scores\": 3.763187651333755, \"maxs\": 4.370418792517007, \"specificity\": 0.36873737373737375, \"interestingness\": 0.6243615383634323, \"coverage\": 0.489375, \"diversity\": 0.6847945473137572, \"conciseness\": 1.5959191919191924, \"n_charts\": 10.12}, {\"epoch\": 31, \"scores\": 3.756648878590545, \"maxs\": 4.376133786848072, \"specificity\": 0.3231670274170274, \"interestingness\": 0.6223514771634089, \"coverage\": 0.49171875, \"diversity\": 0.6789787235772085, \"conciseness\": 1.6404329004329004, \"n_charts\": 9.85}, {\"epoch\": 32, \"scores\": 3.756488861230961, \"maxs\": 4.42155612244898, \"specificity\": 0.31872835497835494, \"interestingness\": 0.6300256725807862, \"coverage\": 0.48765625, \"diversity\": 0.6738679054611414, \"conciseness\": 1.6462106782106785, \"n_charts\": 9.84}, {\"epoch\": 33, \"scores\": 3.7575271683643434, \"maxs\": 4.252053771845438, \"specificity\": 0.30532323232323233, \"interestingness\": 0.6447922641822262, \"coverage\": 0.48859375, \"diversity\": 0.6743330733740365, \"conciseness\": 1.6444848484848487, \"n_charts\": 9.84}, {\"epoch\": 34, \"scores\": 3.7151546854448725, \"maxs\": 4.036898190544024, \"specificity\": 0.3144289044289044, \"interestingness\": 0.631349439155121, \"coverage\": 0.50640625, \"diversity\": 0.6862699031606583, \"conciseness\": 1.5767001887001886, \"n_charts\": 10.25}, {\"epoch\": 35, \"scores\": 3.7009115305034266, \"maxs\": 4.215678110469777, \"specificity\": 0.3406388888888889, \"interestingness\": 0.6239683884297521, \"coverage\": 0.506328125, \"diversity\": 0.6963195625282205, \"conciseness\": 1.5336565656565657, \"n_charts\": 10.51}, {\"epoch\": 36, \"scores\": 3.7137042798923776, \"maxs\": 4.201392431972788, \"specificity\": 0.3384461926961926, \"interestingness\": 0.6190582557313618, \"coverage\": 0.509609375, \"diversity\": 0.6950504409248082, \"conciseness\": 1.551540015540016, \"n_charts\": 10.42}, {\"epoch\": 37, \"scores\": 3.7190548070704814, \"maxs\": 4.284166602246959, \"specificity\": 0.35521950271950264, \"interestingness\": 0.6342365232550838, \"coverage\": 0.50828125, \"diversity\": 0.697833459611823, \"conciseness\": 1.5234840714840714, \"n_charts\": 10.6}, {\"epoch\": 38, \"scores\": 3.7218899955448785, \"maxs\": 4.261504629629631, \"specificity\": 0.35720240870240866, \"interestingness\": 0.6260359129857236, \"coverage\": 0.513984375, \"diversity\": 0.696981207170655, \"conciseness\": 1.5276860916860917, \"n_charts\": 10.57}, {\"epoch\": 39, \"scores\": 3.7053009411393885, \"maxs\": 4.124966931216932, \"specificity\": 0.32082212232212226, \"interestingness\": 0.637012129446031, \"coverage\": 0.505, \"diversity\": 0.6962311471356926, \"conciseness\": 1.5462355422355423, \"n_charts\": 10.45}, {\"epoch\": 40, \"scores\": 3.713503798645361, \"maxs\": 4.162031776094276, \"specificity\": 0.3204318181818182, \"interestingness\": 0.6484916548939276, \"coverage\": 0.5003125, \"diversity\": 0.6876990610008508, \"conciseness\": 1.556568764568765, \"n_charts\": 10.41}, {\"epoch\": 41, \"scores\": 3.725973891348774, \"maxs\": 4.532548916031059, \"specificity\": 0.3561505716505717, \"interestingness\": 0.6311008567050232, \"coverage\": 0.497421875, \"diversity\": 0.6901512928438835, \"conciseness\": 1.5511492951492951, \"n_charts\": 10.44}, {\"epoch\": 42, \"scores\": 3.699433643340709, \"maxs\": 4.224561838624338, \"specificity\": 0.35826068376068376, \"interestingness\": 0.6154375447364084, \"coverage\": 0.50453125, \"diversity\": 0.6966043202437724, \"conciseness\": 1.5245998445998452, \"n_charts\": 10.6}, {\"epoch\": 43, \"scores\": 3.7529107052989894, \"maxs\": 4.3365388579674295, \"specificity\": 0.3438325563325564, \"interestingness\": 0.6296612746050246, \"coverage\": 0.50875, \"diversity\": 0.6919753436698781, \"conciseness\": 1.578691530691531, \"n_charts\": 10.22}, {\"epoch\": 44, \"scores\": 3.8118857331660676, \"maxs\": 4.859761904761905, \"specificity\": 0.3519638694638694, \"interestingness\": 0.6414152082205112, \"coverage\": 0.48703125, \"diversity\": 0.6764202384265198, \"conciseness\": 1.6550551670551676, \"n_charts\": 9.83}, {\"epoch\": 45, \"scores\": 3.8412275577303614, \"maxs\": 4.474943310657596, \"specificity\": 0.3748774281274281, \"interestingness\": 0.6462637421220754, \"coverage\": 0.49140625, \"diversity\": 0.6793374801382002, \"conciseness\": 1.6493426573426575, \"n_charts\": 9.82}]}}, {\"mode\": \"vega-lite\"});\n",
                            "</script>"
                        ],
                        "text/plain": [
                            "alt.VConcatChart(...)"
                        ]
                    },
                    "metadata": {},
                    "output_type": "display_data"
                }
            ],
            "source": [
                "gleaner.train_display([\"count\"])"
            ]
        },
        {
            "cell_type": "code",
            "execution_count": 101,
            "metadata": {},
            "outputs": [
                {
                    "ename": "TypeError",
                    "evalue": "Gleaner.infer() takes 1 positional argument but 2 were given",
                    "output_type": "error",
                    "traceback": [
                        "\u001b[0;31m---------------------------------------------------------------------------\u001b[0m",
                        "\u001b[0;31mTypeError\u001b[0m                                 Traceback (most recent call last)",
                        "Cell \u001b[0;32mIn[101], line 1\u001b[0m\n\u001b[0;32m----> 1\u001b[0m gleaner\u001b[39m.\u001b[39;49minfer([\u001b[39m\"\u001b[39;49m\u001b[39mcount\u001b[39;49m\u001b[39m\"\u001b[39;49m])\u001b[39m.\u001b[39mdisplay()\n",
                        "\u001b[0;31mTypeError\u001b[0m: Gleaner.infer() takes 1 positional argument but 2 were given"
                    ]
                }
            ],
            "source": [
                "gleaner.infer().display()"
            ]
        },
        {
            "cell_type": "code",
            "execution_count": null,
            "metadata": {},
            "outputs": [],
            "source": []
        }
    ],
    "metadata": {
        "kernelspec": {
            "display_name": "columbus",
            "language": "python",
            "name": "python3"
        },
        "language_info": {
            "codemirror_mode": {
                "name": "ipython",
                "version": 3
            },
            "file_extension": ".py",
            "mimetype": "text/x-python",
            "name": "python",
            "nbconvert_exporter": "python",
            "pygments_lexer": "ipython3",
            "version": "3.10.9"
        },
        "orig_nbformat": 4
    },
    "nbformat": 4,
    "nbformat_minor": 2
}
